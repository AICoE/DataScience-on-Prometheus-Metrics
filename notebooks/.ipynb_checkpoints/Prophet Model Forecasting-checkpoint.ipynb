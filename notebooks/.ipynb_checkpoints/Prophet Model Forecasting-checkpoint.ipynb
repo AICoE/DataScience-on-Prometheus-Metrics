{
 "cells": [
  {
   "cell_type": "code",
   "execution_count": 1,
   "metadata": {},
   "outputs": [
    {
     "name": "stdout",
     "output_type": "stream",
     "text": [
      "Requirement already satisfied: fbprophet in /home/nfrumkin/anaconda3/lib/python3.6/site-packages (0.3.post2)\n",
      "Requirement already satisfied: Cython>=0.22 in /home/nfrumkin/anaconda3/lib/python3.6/site-packages (from fbprophet) (0.28.2)\n",
      "Requirement already satisfied: pystan>=2.14 in /home/nfrumkin/anaconda3/lib/python3.6/site-packages (from fbprophet) (2.17.1.0)\n",
      "Requirement already satisfied: numpy>=1.10.0 in /home/nfrumkin/anaconda3/lib/python3.6/site-packages (from fbprophet) (1.14.3)\n",
      "Requirement already satisfied: pandas>=0.20.1 in /home/nfrumkin/anaconda3/lib/python3.6/site-packages (from fbprophet) (0.23.0)\n",
      "Requirement already satisfied: matplotlib>=2.0.0 in /home/nfrumkin/anaconda3/lib/python3.6/site-packages (from fbprophet) (2.2.2)\n",
      "Requirement already satisfied: python-dateutil>=2.5.0 in /home/nfrumkin/anaconda3/lib/python3.6/site-packages (from pandas>=0.20.1->fbprophet) (2.7.3)\n",
      "Requirement already satisfied: pytz>=2011k in /home/nfrumkin/anaconda3/lib/python3.6/site-packages (from pandas>=0.20.1->fbprophet) (2018.4)\n",
      "Requirement already satisfied: cycler>=0.10 in /home/nfrumkin/anaconda3/lib/python3.6/site-packages (from matplotlib>=2.0.0->fbprophet) (0.10.0)\n",
      "Requirement already satisfied: pyparsing!=2.0.4,!=2.1.2,!=2.1.6,>=2.0.1 in /home/nfrumkin/anaconda3/lib/python3.6/site-packages (from matplotlib>=2.0.0->fbprophet) (2.2.0)\n",
      "Requirement already satisfied: six>=1.10 in /home/nfrumkin/anaconda3/lib/python3.6/site-packages (from matplotlib>=2.0.0->fbprophet) (1.11.0)\n",
      "Requirement already satisfied: kiwisolver>=1.0.1 in /home/nfrumkin/anaconda3/lib/python3.6/site-packages (from matplotlib>=2.0.0->fbprophet) (1.0.1)\n",
      "Requirement already satisfied: setuptools in /home/nfrumkin/anaconda3/lib/python3.6/site-packages (from kiwisolver>=1.0.1->matplotlib>=2.0.0->fbprophet) (39.1.0)\n",
      "\u001b[33mYou are using pip version 10.0.1, however version 18.0 is available.\n",
      "You should consider upgrading via the 'pip install --upgrade pip' command.\u001b[0m\n"
     ]
    }
   ],
   "source": [
    "!pip install fbprophet\n",
    "from fbprophet import Prophet\n",
    "import pandas as pd\n",
    "import numpy as np\n",
    "import matplotlib.pylab as plt\n",
    "import datetime as dt\n",
    "import pickle"
   ]
  },
  {
   "cell_type": "code",
   "execution_count": 2,
   "metadata": {},
   "outputs": [],
   "source": [
    "class ProphetForecast:\n",
    "    def __init__(self, train, test):\n",
    "        self.train = train\n",
    "        self.test = test\n",
    "\n",
    "    def fit_model(self, n_predict):\n",
    "        m = Prophet(daily_seasonality=False, weekly_seasonality=False, yearly_seasonality=False)\n",
    "        m.fit(self.train)\n",
    "        future = m.make_future_dataframe(periods= len(self.test),freq= '1MIN')\n",
    "        self.forecast = m.predict(future)\n",
    "\n",
    "        return self.forecast\n",
    "\n",
    "    def graph(self):\n",
    "        fig = plt.figure(figsize=(40,10))\n",
    "        plt.plot(np.array(self.train[\"ds\"]), np.array(self.train[\"y\"]),'b', label=\"train\", linewidth=3)\n",
    "        plt.plot(np.array(self.test[\"ds\"]), np.array(self.test[\"y\"]), 'g', label=\"test\", linewidth=3)\n",
    "\n",
    "        forecast_ds = np.array(self.forecast[\"ds\"])\n",
    "        plt.plot(forecast_ds, np.array(self.forecast[\"yhat\"]), 'o', label=\"yhat\", linewidth=3)\n",
    "        plt.plot(forecast_ds, np.array(self.forecast[\"yhat_upper\"]), 'y', label=\"yhat_upper\", linewidth=3)\n",
    "        plt.plot(forecast_ds, np.array(self.forecast[\"yhat_lower\"]), 'y', label=\"yhat_lower\", linewidth=3)\n",
    "        plt.xlabel(\"Timestamp\")\n",
    "        plt.ylabel(\"Value\")\n",
    "        plt.legend(loc=1)\n",
    "        plt.title(\"Prophet Model Forecast\")\n",
    "        plt.show()"
   ]
  },
  {
   "cell_type": "code",
   "execution_count": 3,
   "metadata": {},
   "outputs": [],
   "source": [
    "def calc_delta(vals):\n",
    "    diff = vals - np.roll(vals, 1)\n",
    "    diff[0] = 0\n",
    "    return diff\n",
    "\n",
    "def monotonically_inc(vals):\n",
    "    # check corner case\n",
    "    if len(vals) == 1:\n",
    "        return True\n",
    "    diff = calc_delta(vals)\n",
    "    diff[np.where(vals == 0)] = 0\n",
    "\n",
    "    if ((diff < 0).sum() == 0):\n",
    "        return True\n",
    "    else:\n",
    "        return False"
   ]
  },
  {
   "cell_type": "code",
   "execution_count": 4,
   "metadata": {},
   "outputs": [],
   "source": [
    "metric_name = \"http_request_duration_microseconds_quantile\"\n",
    "pkl_file = open(\"data/\" + metric_name + \"_dataframes.pkl\", \"rb\")\n",
    "dfs = pickle.load(pkl_file)\n",
    "pkl_file.close()\n",
    "key_vals = list(dfs.keys())"
   ]
  },
  {
   "cell_type": "code",
   "execution_count": null,
   "metadata": {},
   "outputs": [
    {
     "name": "stdout",
     "output_type": "stream",
     "text": [
      "{'__name__': 'http_request_duration_microseconds', 'beta_kubernetes_io_arch': 'amd64', 'beta_kubernetes_io_instance_type': 'm4.xlarge', 'beta_kubernetes_io_os': 'linux', 'failure_domain_beta_kubernetes_io_region': 'us-east-2', 'failure_domain_beta_kubernetes_io_zone': 'us-east-2a', 'handler': 'prometheus', 'hostname': 'free-stg-node-compute-e0756', 'instance': 'ip-172-31-76-144.us-east-2.compute.internal', 'job': 'kubernetes-nodes-exporter', 'kubernetes_io_hostname': 'ip-172-31-76-144.us-east-2.compute.internal', 'logging_infra_fluentd': 'true', 'node_role_kubernetes_io_compute': 'true', 'quantile': '0.99', 'region': 'us-east-2', 'type': 'compute'}\n"
     ]
    }
   ],
   "source": [
    "selected = [728,738]\n",
    "for ind in selected:\n",
    "    key = key_vals[ind]\n",
    "    df = dfs[key]\n",
    "    df = df.sort_values(by=['timestamps'])\n",
    "    print(key)\n",
    "    df[\"values\"] = df[\"values\"].apply(pd.to_numeric)\n",
    "    vals = np.array(df[\"values\"].tolist())\n",
    "\n",
    "    df[\"ds\"] = df[\"timestamps\"]\n",
    "    df[\"y\"] = df[\"values\"]\n",
    "    # check if metric is a counter, if so, run AD on difference\n",
    "    if monotonically_inc(vals):\n",
    "        print(\"monotonically_inc\")\n",
    "        vals = calc_delta(vals)\n",
    "        df[\"values\"] = vals.tolist()\n",
    "\n",
    "    train = df[0:int(0.7*len(vals))]\n",
    "    test = df[int(0.7*len(vals)):]\n",
    "\n",
    "    pf = ProphetForecast(train, test)\n",
    "    forecast = pf.fit_model(len(test))\n",
    "\n",
    "    pf.graph()"
   ]
  },
  {
   "cell_type": "code",
   "execution_count": null,
   "metadata": {},
   "outputs": [],
   "source": []
  }
 ],
 "metadata": {
  "kernelspec": {
   "display_name": "Python 3",
   "language": "python",
   "name": "python3"
  },
  "language_info": {
   "codemirror_mode": {
    "name": "ipython",
    "version": 3
   },
   "file_extension": ".py",
   "mimetype": "text/x-python",
   "name": "python",
   "nbconvert_exporter": "python",
   "pygments_lexer": "ipython3",
   "version": "3.6.5"
  }
 },
 "nbformat": 4,
 "nbformat_minor": 2
}
